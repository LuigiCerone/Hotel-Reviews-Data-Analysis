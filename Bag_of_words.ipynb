{
 "cells": [
  {
   "cell_type": "code",
   "execution_count": 19,
   "metadata": {},
   "outputs": [],
   "source": [
    "import numpy as np\n",
    "import pandas as pd\n",
    "from urllib.request import urlopen"
   ]
  },
  {
   "cell_type": "code",
   "execution_count": 29,
   "metadata": {},
   "outputs": [],
   "source": [
    "docword_file_base_name = 'docword.{}.txt.gz'\n",
    "vocab_file_base_name = 'vocab.{}.txt'\n",
    "\n",
    "\n",
    "def getDataSet(requested_dataset, \\\n",
    "               base_url='https://archive.ics.uci.edu/ml/machine-learning-databases/bag-of-words/'):\n",
    "    for data_set in requested_dataset:\n",
    "        with urlopen(base_url + vocab_file_base_name.format(data_set)) as response:\n",
    "            data = response.read()\n",
    "            encoding = response.headers.get_content_charset('utf-8')\n",
    "#             print(encoding)\n",
    "            text = data.decode(encoding)\n",
    "            print(data)\n",
    "\n",
    "    "
   ]
  },
  {
   "cell_type": "code",
   "execution_count": 28,
   "metadata": {},
   "outputs": [
    {
     "name": "stdout",
     "output_type": "stream",
     "text": [
      "utf-8\n"
     ]
    }
   ],
   "source": [
    "requested_dataset = ['enron']\n",
    "data = getDataSet(requested_dataset)\n",
    "data"
   ]
  }
 ],
 "metadata": {
  "kernelspec": {
   "display_name": "Python 3",
   "language": "python",
   "name": "python3"
  },
  "language_info": {
   "codemirror_mode": {
    "name": "ipython",
    "version": 3
   },
   "file_extension": ".py",
   "mimetype": "text/x-python",
   "name": "python",
   "nbconvert_exporter": "python",
   "pygments_lexer": "ipython3",
   "version": "3.7.2"
  }
 },
 "nbformat": 4,
 "nbformat_minor": 2
}
