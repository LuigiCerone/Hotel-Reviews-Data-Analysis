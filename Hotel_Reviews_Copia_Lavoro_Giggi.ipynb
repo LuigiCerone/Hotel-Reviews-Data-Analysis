{
 "cells": [
  {
   "cell_type": "markdown",
   "metadata": {},
   "source": [
    "# Data Analytics and Data Driven Decision - Final Project."
   ]
  },
  {
   "cell_type": "markdown",
   "metadata": {},
   "source": [
    "### Why this dataset? # TODO\n",
    "\n",
    "### Description of each column with its meaning. # TODO"
   ]
  },
  {
   "cell_type": "code",
   "execution_count": 281,
   "metadata": {},
   "outputs": [],
   "source": [
    "import numpy as np\n",
    "import pandas as pd\n",
    "import matplotlib.pyplot as plt\n",
    "import re\n",
    "import seaborn as sns\n",
    "\n",
    "# Use seaborn.\n",
    "sns.set()\n",
    "%matplotlib inline\n",
    "\n",
    "FIG_SIZE = (10,8)"
   ]
  },
  {
   "cell_type": "code",
   "execution_count": 93,
   "metadata": {},
   "outputs": [
    {
     "data": {
      "text/html": [
       "<div>\n",
       "<style scoped>\n",
       "    .dataframe tbody tr th:only-of-type {\n",
       "        vertical-align: middle;\n",
       "    }\n",
       "\n",
       "    .dataframe tbody tr th {\n",
       "        vertical-align: top;\n",
       "    }\n",
       "\n",
       "    .dataframe thead th {\n",
       "        text-align: right;\n",
       "    }\n",
       "</style>\n",
       "<table border=\"1\" class=\"dataframe\">\n",
       "  <thead>\n",
       "    <tr style=\"text-align: right;\">\n",
       "      <th></th>\n",
       "      <th>Hotel_Address</th>\n",
       "      <th>Additional_Number_of_Scoring</th>\n",
       "      <th>Review_Date</th>\n",
       "      <th>Average_Score</th>\n",
       "      <th>Hotel_Name</th>\n",
       "      <th>Reviewer_Nationality</th>\n",
       "      <th>Negative_Review</th>\n",
       "      <th>Review_Total_Negative_Word_Counts</th>\n",
       "      <th>Total_Number_of_Reviews</th>\n",
       "      <th>Positive_Review</th>\n",
       "      <th>Review_Total_Positive_Word_Counts</th>\n",
       "      <th>Total_Number_of_Reviews_Reviewer_Has_Given</th>\n",
       "      <th>Reviewer_Score</th>\n",
       "      <th>Tags</th>\n",
       "      <th>days_since_review</th>\n",
       "      <th>lat</th>\n",
       "      <th>lng</th>\n",
       "    </tr>\n",
       "  </thead>\n",
       "  <tbody>\n",
       "    <tr>\n",
       "      <th>0</th>\n",
       "      <td>s Gravesandestraat 55 Oost 1092 AA Amsterdam ...</td>\n",
       "      <td>194</td>\n",
       "      <td>8/3/2017</td>\n",
       "      <td>7.7</td>\n",
       "      <td>Hotel Arena</td>\n",
       "      <td>Russia</td>\n",
       "      <td>I am so angry that i made this post available...</td>\n",
       "      <td>397</td>\n",
       "      <td>1403</td>\n",
       "      <td>Only the park outside of the hotel was beauti...</td>\n",
       "      <td>11</td>\n",
       "      <td>7</td>\n",
       "      <td>2.9</td>\n",
       "      <td>[' Leisure trip ', ' Couple ', ' Duplex Double...</td>\n",
       "      <td>0 days</td>\n",
       "      <td>52.360576</td>\n",
       "      <td>4.915968</td>\n",
       "    </tr>\n",
       "    <tr>\n",
       "      <th>1</th>\n",
       "      <td>s Gravesandestraat 55 Oost 1092 AA Amsterdam ...</td>\n",
       "      <td>194</td>\n",
       "      <td>8/3/2017</td>\n",
       "      <td>7.7</td>\n",
       "      <td>Hotel Arena</td>\n",
       "      <td>Ireland</td>\n",
       "      <td>No Negative</td>\n",
       "      <td>0</td>\n",
       "      <td>1403</td>\n",
       "      <td>No real complaints the hotel was great great ...</td>\n",
       "      <td>105</td>\n",
       "      <td>7</td>\n",
       "      <td>7.5</td>\n",
       "      <td>[' Leisure trip ', ' Couple ', ' Duplex Double...</td>\n",
       "      <td>0 days</td>\n",
       "      <td>52.360576</td>\n",
       "      <td>4.915968</td>\n",
       "    </tr>\n",
       "    <tr>\n",
       "      <th>2</th>\n",
       "      <td>s Gravesandestraat 55 Oost 1092 AA Amsterdam ...</td>\n",
       "      <td>194</td>\n",
       "      <td>7/31/2017</td>\n",
       "      <td>7.7</td>\n",
       "      <td>Hotel Arena</td>\n",
       "      <td>Australia</td>\n",
       "      <td>Rooms are nice but for elderly a bit difficul...</td>\n",
       "      <td>42</td>\n",
       "      <td>1403</td>\n",
       "      <td>Location was good and staff were ok It is cut...</td>\n",
       "      <td>21</td>\n",
       "      <td>9</td>\n",
       "      <td>7.1</td>\n",
       "      <td>[' Leisure trip ', ' Family with young childre...</td>\n",
       "      <td>3 days</td>\n",
       "      <td>52.360576</td>\n",
       "      <td>4.915968</td>\n",
       "    </tr>\n",
       "    <tr>\n",
       "      <th>3</th>\n",
       "      <td>s Gravesandestraat 55 Oost 1092 AA Amsterdam ...</td>\n",
       "      <td>194</td>\n",
       "      <td>7/31/2017</td>\n",
       "      <td>7.7</td>\n",
       "      <td>Hotel Arena</td>\n",
       "      <td>United Kingdom</td>\n",
       "      <td>My room was dirty and I was afraid to walk ba...</td>\n",
       "      <td>210</td>\n",
       "      <td>1403</td>\n",
       "      <td>Great location in nice surroundings the bar a...</td>\n",
       "      <td>26</td>\n",
       "      <td>1</td>\n",
       "      <td>3.8</td>\n",
       "      <td>[' Leisure trip ', ' Solo traveler ', ' Duplex...</td>\n",
       "      <td>3 days</td>\n",
       "      <td>52.360576</td>\n",
       "      <td>4.915968</td>\n",
       "    </tr>\n",
       "    <tr>\n",
       "      <th>4</th>\n",
       "      <td>s Gravesandestraat 55 Oost 1092 AA Amsterdam ...</td>\n",
       "      <td>194</td>\n",
       "      <td>7/24/2017</td>\n",
       "      <td>7.7</td>\n",
       "      <td>Hotel Arena</td>\n",
       "      <td>New Zealand</td>\n",
       "      <td>You When I booked with your company on line y...</td>\n",
       "      <td>140</td>\n",
       "      <td>1403</td>\n",
       "      <td>Amazing location and building Romantic setting</td>\n",
       "      <td>8</td>\n",
       "      <td>3</td>\n",
       "      <td>6.7</td>\n",
       "      <td>[' Leisure trip ', ' Couple ', ' Suite ', ' St...</td>\n",
       "      <td>10 days</td>\n",
       "      <td>52.360576</td>\n",
       "      <td>4.915968</td>\n",
       "    </tr>\n",
       "  </tbody>\n",
       "</table>\n",
       "</div>"
      ],
      "text/plain": [
       "                                       Hotel_Address  \\\n",
       "0   s Gravesandestraat 55 Oost 1092 AA Amsterdam ...   \n",
       "1   s Gravesandestraat 55 Oost 1092 AA Amsterdam ...   \n",
       "2   s Gravesandestraat 55 Oost 1092 AA Amsterdam ...   \n",
       "3   s Gravesandestraat 55 Oost 1092 AA Amsterdam ...   \n",
       "4   s Gravesandestraat 55 Oost 1092 AA Amsterdam ...   \n",
       "\n",
       "   Additional_Number_of_Scoring Review_Date  Average_Score   Hotel_Name  \\\n",
       "0                           194    8/3/2017            7.7  Hotel Arena   \n",
       "1                           194    8/3/2017            7.7  Hotel Arena   \n",
       "2                           194   7/31/2017            7.7  Hotel Arena   \n",
       "3                           194   7/31/2017            7.7  Hotel Arena   \n",
       "4                           194   7/24/2017            7.7  Hotel Arena   \n",
       "\n",
       "  Reviewer_Nationality                                    Negative_Review  \\\n",
       "0              Russia    I am so angry that i made this post available...   \n",
       "1             Ireland                                         No Negative   \n",
       "2           Australia    Rooms are nice but for elderly a bit difficul...   \n",
       "3      United Kingdom    My room was dirty and I was afraid to walk ba...   \n",
       "4         New Zealand    You When I booked with your company on line y...   \n",
       "\n",
       "   Review_Total_Negative_Word_Counts  Total_Number_of_Reviews  \\\n",
       "0                                397                     1403   \n",
       "1                                  0                     1403   \n",
       "2                                 42                     1403   \n",
       "3                                210                     1403   \n",
       "4                                140                     1403   \n",
       "\n",
       "                                     Positive_Review  \\\n",
       "0   Only the park outside of the hotel was beauti...   \n",
       "1   No real complaints the hotel was great great ...   \n",
       "2   Location was good and staff were ok It is cut...   \n",
       "3   Great location in nice surroundings the bar a...   \n",
       "4    Amazing location and building Romantic setting    \n",
       "\n",
       "   Review_Total_Positive_Word_Counts  \\\n",
       "0                                 11   \n",
       "1                                105   \n",
       "2                                 21   \n",
       "3                                 26   \n",
       "4                                  8   \n",
       "\n",
       "   Total_Number_of_Reviews_Reviewer_Has_Given  Reviewer_Score  \\\n",
       "0                                           7             2.9   \n",
       "1                                           7             7.5   \n",
       "2                                           9             7.1   \n",
       "3                                           1             3.8   \n",
       "4                                           3             6.7   \n",
       "\n",
       "                                                Tags days_since_review  \\\n",
       "0  [' Leisure trip ', ' Couple ', ' Duplex Double...            0 days   \n",
       "1  [' Leisure trip ', ' Couple ', ' Duplex Double...            0 days   \n",
       "2  [' Leisure trip ', ' Family with young childre...            3 days   \n",
       "3  [' Leisure trip ', ' Solo traveler ', ' Duplex...            3 days   \n",
       "4  [' Leisure trip ', ' Couple ', ' Suite ', ' St...           10 days   \n",
       "\n",
       "         lat       lng  \n",
       "0  52.360576  4.915968  \n",
       "1  52.360576  4.915968  \n",
       "2  52.360576  4.915968  \n",
       "3  52.360576  4.915968  \n",
       "4  52.360576  4.915968  "
      ]
     },
     "execution_count": 93,
     "metadata": {},
     "output_type": "execute_result"
    }
   ],
   "source": [
    "reviews_df = pd.read_csv('Hotel_Reviews.csv')\n",
    "reviews_df.head()"
   ]
  },
  {
   "cell_type": "code",
   "execution_count": 94,
   "metadata": {},
   "outputs": [
    {
     "data": {
      "text/html": [
       "<div>\n",
       "<style scoped>\n",
       "    .dataframe tbody tr th:only-of-type {\n",
       "        vertical-align: middle;\n",
       "    }\n",
       "\n",
       "    .dataframe tbody tr th {\n",
       "        vertical-align: top;\n",
       "    }\n",
       "\n",
       "    .dataframe thead th {\n",
       "        text-align: right;\n",
       "    }\n",
       "</style>\n",
       "<table border=\"1\" class=\"dataframe\">\n",
       "  <thead>\n",
       "    <tr style=\"text-align: right;\">\n",
       "      <th></th>\n",
       "      <th>Additional_Number_of_Scoring</th>\n",
       "      <th>Average_Score</th>\n",
       "      <th>Review_Total_Negative_Word_Counts</th>\n",
       "      <th>Total_Number_of_Reviews</th>\n",
       "      <th>Review_Total_Positive_Word_Counts</th>\n",
       "      <th>Total_Number_of_Reviews_Reviewer_Has_Given</th>\n",
       "      <th>Reviewer_Score</th>\n",
       "      <th>lat</th>\n",
       "      <th>lng</th>\n",
       "    </tr>\n",
       "  </thead>\n",
       "  <tbody>\n",
       "    <tr>\n",
       "      <th>count</th>\n",
       "      <td>515738.000000</td>\n",
       "      <td>515738.000000</td>\n",
       "      <td>515738.000000</td>\n",
       "      <td>515738.000000</td>\n",
       "      <td>515738.000000</td>\n",
       "      <td>515738.000000</td>\n",
       "      <td>515738.000000</td>\n",
       "      <td>512470.000000</td>\n",
       "      <td>512470.000000</td>\n",
       "    </tr>\n",
       "    <tr>\n",
       "      <th>mean</th>\n",
       "      <td>498.081836</td>\n",
       "      <td>8.397487</td>\n",
       "      <td>18.539450</td>\n",
       "      <td>2743.743944</td>\n",
       "      <td>17.776458</td>\n",
       "      <td>7.166001</td>\n",
       "      <td>8.395077</td>\n",
       "      <td>49.442439</td>\n",
       "      <td>2.823803</td>\n",
       "    </tr>\n",
       "    <tr>\n",
       "      <th>std</th>\n",
       "      <td>500.538467</td>\n",
       "      <td>0.548048</td>\n",
       "      <td>29.690831</td>\n",
       "      <td>2317.464868</td>\n",
       "      <td>21.804185</td>\n",
       "      <td>11.040228</td>\n",
       "      <td>1.637856</td>\n",
       "      <td>3.466325</td>\n",
       "      <td>4.579425</td>\n",
       "    </tr>\n",
       "    <tr>\n",
       "      <th>min</th>\n",
       "      <td>1.000000</td>\n",
       "      <td>5.200000</td>\n",
       "      <td>0.000000</td>\n",
       "      <td>43.000000</td>\n",
       "      <td>0.000000</td>\n",
       "      <td>1.000000</td>\n",
       "      <td>2.500000</td>\n",
       "      <td>41.328376</td>\n",
       "      <td>-0.369758</td>\n",
       "    </tr>\n",
       "    <tr>\n",
       "      <th>25%</th>\n",
       "      <td>169.000000</td>\n",
       "      <td>8.100000</td>\n",
       "      <td>2.000000</td>\n",
       "      <td>1161.000000</td>\n",
       "      <td>5.000000</td>\n",
       "      <td>1.000000</td>\n",
       "      <td>7.500000</td>\n",
       "      <td>48.214662</td>\n",
       "      <td>-0.143372</td>\n",
       "    </tr>\n",
       "    <tr>\n",
       "      <th>50%</th>\n",
       "      <td>341.000000</td>\n",
       "      <td>8.400000</td>\n",
       "      <td>9.000000</td>\n",
       "      <td>2134.000000</td>\n",
       "      <td>11.000000</td>\n",
       "      <td>3.000000</td>\n",
       "      <td>8.800000</td>\n",
       "      <td>51.499981</td>\n",
       "      <td>0.010607</td>\n",
       "    </tr>\n",
       "    <tr>\n",
       "      <th>75%</th>\n",
       "      <td>660.000000</td>\n",
       "      <td>8.800000</td>\n",
       "      <td>23.000000</td>\n",
       "      <td>3613.000000</td>\n",
       "      <td>22.000000</td>\n",
       "      <td>8.000000</td>\n",
       "      <td>9.600000</td>\n",
       "      <td>51.516288</td>\n",
       "      <td>4.834443</td>\n",
       "    </tr>\n",
       "    <tr>\n",
       "      <th>max</th>\n",
       "      <td>2682.000000</td>\n",
       "      <td>9.800000</td>\n",
       "      <td>408.000000</td>\n",
       "      <td>16670.000000</td>\n",
       "      <td>395.000000</td>\n",
       "      <td>355.000000</td>\n",
       "      <td>10.000000</td>\n",
       "      <td>52.400181</td>\n",
       "      <td>16.429233</td>\n",
       "    </tr>\n",
       "  </tbody>\n",
       "</table>\n",
       "</div>"
      ],
      "text/plain": [
       "       Additional_Number_of_Scoring  Average_Score  \\\n",
       "count                 515738.000000  515738.000000   \n",
       "mean                     498.081836       8.397487   \n",
       "std                      500.538467       0.548048   \n",
       "min                        1.000000       5.200000   \n",
       "25%                      169.000000       8.100000   \n",
       "50%                      341.000000       8.400000   \n",
       "75%                      660.000000       8.800000   \n",
       "max                     2682.000000       9.800000   \n",
       "\n",
       "       Review_Total_Negative_Word_Counts  Total_Number_of_Reviews  \\\n",
       "count                      515738.000000            515738.000000   \n",
       "mean                           18.539450              2743.743944   \n",
       "std                            29.690831              2317.464868   \n",
       "min                             0.000000                43.000000   \n",
       "25%                             2.000000              1161.000000   \n",
       "50%                             9.000000              2134.000000   \n",
       "75%                            23.000000              3613.000000   \n",
       "max                           408.000000             16670.000000   \n",
       "\n",
       "       Review_Total_Positive_Word_Counts  \\\n",
       "count                      515738.000000   \n",
       "mean                           17.776458   \n",
       "std                            21.804185   \n",
       "min                             0.000000   \n",
       "25%                             5.000000   \n",
       "50%                            11.000000   \n",
       "75%                            22.000000   \n",
       "max                           395.000000   \n",
       "\n",
       "       Total_Number_of_Reviews_Reviewer_Has_Given  Reviewer_Score  \\\n",
       "count                               515738.000000   515738.000000   \n",
       "mean                                     7.166001        8.395077   \n",
       "std                                     11.040228        1.637856   \n",
       "min                                      1.000000        2.500000   \n",
       "25%                                      1.000000        7.500000   \n",
       "50%                                      3.000000        8.800000   \n",
       "75%                                      8.000000        9.600000   \n",
       "max                                    355.000000       10.000000   \n",
       "\n",
       "                 lat            lng  \n",
       "count  512470.000000  512470.000000  \n",
       "mean       49.442439       2.823803  \n",
       "std         3.466325       4.579425  \n",
       "min        41.328376      -0.369758  \n",
       "25%        48.214662      -0.143372  \n",
       "50%        51.499981       0.010607  \n",
       "75%        51.516288       4.834443  \n",
       "max        52.400181      16.429233  "
      ]
     },
     "execution_count": 94,
     "metadata": {},
     "output_type": "execute_result"
    }
   ],
   "source": [
    "reviews_df.describe()"
   ]
  },
  {
   "cell_type": "code",
   "execution_count": 95,
   "metadata": {},
   "outputs": [
    {
     "data": {
      "text/plain": [
       "Hotel_Address                                 515738\n",
       "Additional_Number_of_Scoring                  515738\n",
       "Review_Date                                   515738\n",
       "Average_Score                                 515738\n",
       "Hotel_Name                                    515738\n",
       "Reviewer_Nationality                          515738\n",
       "Negative_Review                               515738\n",
       "Review_Total_Negative_Word_Counts             515738\n",
       "Total_Number_of_Reviews                       515738\n",
       "Positive_Review                               515738\n",
       "Review_Total_Positive_Word_Counts             515738\n",
       "Total_Number_of_Reviews_Reviewer_Has_Given    515738\n",
       "Reviewer_Score                                515738\n",
       "Tags                                          515738\n",
       "days_since_review                             515738\n",
       "lat                                           512470\n",
       "lng                                           512470\n",
       "dtype: int64"
      ]
     },
     "execution_count": 95,
     "metadata": {},
     "output_type": "execute_result"
    }
   ],
   "source": [
    "reviews_df.count()"
   ]
  },
  {
   "cell_type": "markdown",
   "metadata": {},
   "source": [
    "One of the first thing we've noticed is that some row doesn't have latitude and longitude attributes. First we check that the latitude and longitude attribute are null for each row of the dataframe that refers to this specific hotel. In this way we can be certain that we are missing the coordinates of this hotel for every review's instance (not only for a few of them)."
   ]
  },
  {
   "cell_type": "code",
   "execution_count": 96,
   "metadata": {},
   "outputs": [
    {
     "data": {
      "text/plain": [
       "Hotel_Address                                 False\n",
       "Additional_Number_of_Scoring                  False\n",
       "Review_Date                                   False\n",
       "Average_Score                                 False\n",
       "Hotel_Name                                    False\n",
       "Reviewer_Nationality                          False\n",
       "Negative_Review                               False\n",
       "Review_Total_Negative_Word_Counts             False\n",
       "Total_Number_of_Reviews                       False\n",
       "Positive_Review                               False\n",
       "Review_Total_Positive_Word_Counts             False\n",
       "Total_Number_of_Reviews_Reviewer_Has_Given    False\n",
       "Reviewer_Score                                False\n",
       "Tags                                          False\n",
       "days_since_review                             False\n",
       "lat                                            True\n",
       "lng                                            True\n",
       "dtype: bool"
      ]
     },
     "execution_count": 96,
     "metadata": {},
     "output_type": "execute_result"
    }
   ],
   "source": [
    "reviews_df.isnull().any()"
   ]
  },
  {
   "cell_type": "code",
   "execution_count": 97,
   "metadata": {},
   "outputs": [
    {
     "data": {
      "text/plain": [
       "array(['Mercure Paris Gare Montparnasse', 'Holiday Inn Paris Montmartre',\n",
       "       'Maison Albar Hotel Paris Op ra Diamond',\n",
       "       'NH Collection Barcelona Podium', 'City Hotel Deutschmeister',\n",
       "       'Hotel Park Villa', 'Fleming s Selection Hotel Wien City',\n",
       "       'Cordial Theaterhotel Wien', 'Hotel Daniel Vienna', 'Roomz Vienna',\n",
       "       'Renaissance Barcelona Hotel',\n",
       "       'Austria Trend Hotel Schloss Wilhelminenberg Wien',\n",
       "       'Hotel Advance', 'Derag Livinghotel Kaiser Franz Joseph Vienna',\n",
       "       'Hotel City Central', 'Hotel Pension Baron am Schottentor',\n",
       "       'Hotel Atlanta'], dtype=object)"
      ]
     },
     "execution_count": 97,
     "metadata": {},
     "output_type": "execute_result"
    }
   ],
   "source": [
    "missing_lat_hotels = reviews_df[reviews_df['lat'].isnull()]['Hotel_Name'].unique()\n",
    "missing_lat_hotels"
   ]
  },
  {
   "cell_type": "code",
   "execution_count": 98,
   "metadata": {},
   "outputs": [],
   "source": [
    "for hotel in range(len(missing_lat_hotels)):\n",
    "    assert reviews_df[reviews_df['Hotel_Name'] == missing_lat_hotels[hotel]]['lat'].isnull().all() == True"
   ]
  },
  {
   "cell_type": "code",
   "execution_count": 99,
   "metadata": {},
   "outputs": [
    {
     "data": {
      "text/plain": [
       "array(['Mercure Paris Gare Montparnasse', 'Holiday Inn Paris Montmartre',\n",
       "       'Maison Albar Hotel Paris Op ra Diamond',\n",
       "       'NH Collection Barcelona Podium', 'City Hotel Deutschmeister',\n",
       "       'Hotel Park Villa', 'Fleming s Selection Hotel Wien City',\n",
       "       'Cordial Theaterhotel Wien', 'Hotel Daniel Vienna', 'Roomz Vienna',\n",
       "       'Renaissance Barcelona Hotel',\n",
       "       'Austria Trend Hotel Schloss Wilhelminenberg Wien',\n",
       "       'Hotel Advance', 'Derag Livinghotel Kaiser Franz Joseph Vienna',\n",
       "       'Hotel City Central', 'Hotel Pension Baron am Schottentor',\n",
       "       'Hotel Atlanta'], dtype=object)"
      ]
     },
     "execution_count": 99,
     "metadata": {},
     "output_type": "execute_result"
    }
   ],
   "source": [
    "missing_lng_hotels = reviews_df[reviews_df['lng'].isnull()]['Hotel_Name'].unique()\n",
    "missing_lng_hotels"
   ]
  },
  {
   "cell_type": "code",
   "execution_count": 100,
   "metadata": {},
   "outputs": [],
   "source": [
    "for hotel in range(len(missing_lng_hotels)):\n",
    "    assert reviews_df[reviews_df['Hotel_Name'] == missing_lng_hotels[hotel]]['lat'].isnull().all() == True"
   ]
  },
  {
   "cell_type": "markdown",
   "metadata": {},
   "source": [
    "We fill the empty cells by searching online the geospatial coordinates associated to each one of the hotels. Then we store these information info our dataframe and we check again that now it is full with all its information."
   ]
  },
  {
   "cell_type": "code",
   "execution_count": 101,
   "metadata": {},
   "outputs": [],
   "source": [
    "missing_infos = {'Fleming s Selection Hotel Wien City': {'lat':48.209270, 'lng':16.353479},\n",
    "    'Hotel City Central':{'lat':48.2136,'lng':16.3799},\n",
    "    'Hotel Atlanta':{'lat':48.210033,'lng':16.363449},\n",
    "    'Maison Albar Hotel Paris Op ra Diamond':{'lat':48.875343,'lng':2.323358},\n",
    "    'Hotel Daniel Vienna':{'lat':48.1888,'lng':16.3840},\n",
    "    'Hotel Pension Baron am Schottentor':{'lat':48.216701,'lng':16.359819},\n",
    "    'Austria Trend Hotel Schloss Wilhelminenberg Wien':{'lat':48.2195,'lng':16.2856},\n",
    "    'Derag Livinghotel Kaiser Franz Joseph Vienna':{'lat':48.245998,'lng':16.341080},\n",
    "    'NH Collection Barcelona Podium':{'lat':41.3916,'lng':2.1779},\n",
    "    'City Hotel Deutschmeister':{'lat':48.22088,'lng':16.36663},\n",
    "    'Hotel Park Villa':{'lat':48.233577,'lng':16.345682},\n",
    "    'Cordial Theaterhotel Wien':{'lat':48.209488,'lng':16.351585},\n",
    "    'Holiday Inn Paris Montmartre':{'lat':48.888920,'lng':2.333087},\n",
    "    'Roomz Vienna':{'lat':48.186605,'lng':16.420643},\n",
    "    'Mercure Paris Gare Montparnasse':{'lat':48.840012,'lng':2.323595},\n",
    "    'Renaissance Barcelona Hotel':{'lat':41.392673,'lng':2.167494},\n",
    "    'Hotel Advance': {'lat':41.383308,'lng':2.162828}\n",
    "}"
   ]
  },
  {
   "cell_type": "code",
   "execution_count": 102,
   "metadata": {},
   "outputs": [],
   "source": [
    "nan_df = reviews_df[reviews_df.isnull().any(axis=1)]\n",
    "\n",
    "for index, row in nan_df.iterrows():\n",
    "    reviews_df.at[index, 'lat'] = missing_infos[row['Hotel_Name']]['lat']\n",
    "    reviews_df.at[index, 'lng'] = missing_infos[row['Hotel_Name']]['lng']"
   ]
  },
  {
   "cell_type": "code",
   "execution_count": 103,
   "metadata": {},
   "outputs": [
    {
     "data": {
      "text/plain": [
       "Hotel_Address                                 515738\n",
       "Additional_Number_of_Scoring                  515738\n",
       "Review_Date                                   515738\n",
       "Average_Score                                 515738\n",
       "Hotel_Name                                    515738\n",
       "Reviewer_Nationality                          515738\n",
       "Negative_Review                               515738\n",
       "Review_Total_Negative_Word_Counts             515738\n",
       "Total_Number_of_Reviews                       515738\n",
       "Positive_Review                               515738\n",
       "Review_Total_Positive_Word_Counts             515738\n",
       "Total_Number_of_Reviews_Reviewer_Has_Given    515738\n",
       "Reviewer_Score                                515738\n",
       "Tags                                          515738\n",
       "days_since_review                             515738\n",
       "lat                                           515738\n",
       "lng                                           515738\n",
       "dtype: int64"
      ]
     },
     "execution_count": 103,
     "metadata": {},
     "output_type": "execute_result"
    }
   ],
   "source": [
    "reviews_df.count()"
   ]
  },
  {
   "cell_type": "code",
   "execution_count": 104,
   "metadata": {},
   "outputs": [
    {
     "data": {
      "text/plain": [
       "Hotel_Address                                 False\n",
       "Additional_Number_of_Scoring                  False\n",
       "Review_Date                                   False\n",
       "Average_Score                                 False\n",
       "Hotel_Name                                    False\n",
       "Reviewer_Nationality                          False\n",
       "Negative_Review                               False\n",
       "Review_Total_Negative_Word_Counts             False\n",
       "Total_Number_of_Reviews                       False\n",
       "Positive_Review                               False\n",
       "Review_Total_Positive_Word_Counts             False\n",
       "Total_Number_of_Reviews_Reviewer_Has_Given    False\n",
       "Reviewer_Score                                False\n",
       "Tags                                          False\n",
       "days_since_review                             False\n",
       "lat                                           False\n",
       "lng                                           False\n",
       "dtype: bool"
      ]
     },
     "execution_count": 104,
     "metadata": {},
     "output_type": "execute_result"
    }
   ],
   "source": [
    "reviews_df.isnull().any()"
   ]
  },
  {
   "cell_type": "code",
   "execution_count": 105,
   "metadata": {},
   "outputs": [],
   "source": [
    "dataframe_length = reviews_df['Hotel_Name'].count()"
   ]
  },
  {
   "cell_type": "code",
   "execution_count": 245,
   "metadata": {},
   "outputs": [],
   "source": [
    "# ['Netherlands', 'Kingdom', 'France', 'Spain', 'Italy', 'Austria']\n",
    "cold_countries = ['Netherlands', 'Kingdom', 'Austria']\n",
    "hot_countries = ['France', 'Italy', 'Spain']\n",
    "\n",
    "has_sea = ['Spain', 'Kingdom', 'Netherlands']\n",
    "does_not_sea = ['Italy', 'Austria', 'France' ]"
   ]
  },
  {
   "cell_type": "code",
   "execution_count": 247,
   "metadata": {},
   "outputs": [],
   "source": [
    "reviews_df['Hotel_Country'] = \"\"\n",
    "reviews_df['Country_Type'] = \"\"\n",
    "for index, row in reviews_df.iterrows():\n",
    "    country_name = row.Hotel_Address.split()[-1]\n",
    "    reviews_df.at[index,'Hotel_Country'] = country_name\n",
    "    if country_name in does_not_sea:\n",
    "        reviews_df.at[index,'Country_Type'] = 0\n",
    "    elif country_name in has_sea:\n",
    "        reviews_df.at[index,'Country_Type'] = 1    "
   ]
  },
  {
   "cell_type": "code",
   "execution_count": 248,
   "metadata": {},
   "outputs": [
    {
     "data": {
      "text/plain": [
       "Hotel_Address                                 0\n",
       "Additional_Number_of_Scoring                  0\n",
       "Review_Date                                   0\n",
       "Average_Score                                 0\n",
       "Hotel_Name                                    0\n",
       "Reviewer_Nationality                          0\n",
       "Negative_Review                               0\n",
       "Review_Total_Negative_Word_Counts             0\n",
       "Total_Number_of_Reviews                       0\n",
       "Positive_Review                               0\n",
       "Review_Total_Positive_Word_Counts             0\n",
       "Total_Number_of_Reviews_Reviewer_Has_Given    0\n",
       "Reviewer_Score                                0\n",
       "Tags                                          0\n",
       "days_since_review                             0\n",
       "lat                                           0\n",
       "lng                                           0\n",
       "Hotel_Country                                 0\n",
       "Country_Type                                  0\n",
       "count                                         0\n",
       "dtype: int64"
      ]
     },
     "execution_count": 248,
     "metadata": {},
     "output_type": "execute_result"
    }
   ],
   "source": [
    "reviews_df[reviews_df['Country_Type'] == \"\"].count()"
   ]
  },
  {
   "cell_type": "code",
   "execution_count": 163,
   "metadata": {},
   "outputs": [
    {
     "data": {
      "text/html": [
       "<div>\n",
       "<style scoped>\n",
       "    .dataframe tbody tr th:only-of-type {\n",
       "        vertical-align: middle;\n",
       "    }\n",
       "\n",
       "    .dataframe tbody tr th {\n",
       "        vertical-align: top;\n",
       "    }\n",
       "\n",
       "    .dataframe thead th {\n",
       "        text-align: right;\n",
       "    }\n",
       "</style>\n",
       "<table border=\"1\" class=\"dataframe\">\n",
       "  <thead>\n",
       "    <tr style=\"text-align: right;\">\n",
       "      <th></th>\n",
       "      <th>Hotel_Address</th>\n",
       "      <th>Additional_Number_of_Scoring</th>\n",
       "      <th>Review_Date</th>\n",
       "      <th>Average_Score</th>\n",
       "      <th>Hotel_Name</th>\n",
       "      <th>Reviewer_Nationality</th>\n",
       "      <th>Negative_Review</th>\n",
       "      <th>Review_Total_Negative_Word_Counts</th>\n",
       "      <th>Total_Number_of_Reviews</th>\n",
       "      <th>Positive_Review</th>\n",
       "      <th>Review_Total_Positive_Word_Counts</th>\n",
       "      <th>Total_Number_of_Reviews_Reviewer_Has_Given</th>\n",
       "      <th>Reviewer_Score</th>\n",
       "      <th>Tags</th>\n",
       "      <th>days_since_review</th>\n",
       "      <th>lat</th>\n",
       "      <th>lng</th>\n",
       "      <th>Hotel_Country</th>\n",
       "      <th>Country_Type</th>\n",
       "    </tr>\n",
       "  </thead>\n",
       "  <tbody>\n",
       "    <tr>\n",
       "      <th>0</th>\n",
       "      <td>s Gravesandestraat 55 Oost 1092 AA Amsterdam ...</td>\n",
       "      <td>194</td>\n",
       "      <td>2017-08-03</td>\n",
       "      <td>7.7</td>\n",
       "      <td>Hotel Arena</td>\n",
       "      <td>Russia</td>\n",
       "      <td>I am so angry that i made this post available...</td>\n",
       "      <td>397</td>\n",
       "      <td>1403</td>\n",
       "      <td>Only the park outside of the hotel was beauti...</td>\n",
       "      <td>11</td>\n",
       "      <td>7</td>\n",
       "      <td>2.9</td>\n",
       "      <td>[' Leisure trip ', ' Couple ', ' Duplex Double...</td>\n",
       "      <td>0</td>\n",
       "      <td>52.360576</td>\n",
       "      <td>4.915968</td>\n",
       "      <td>Netherlands</td>\n",
       "      <td>0</td>\n",
       "    </tr>\n",
       "    <tr>\n",
       "      <th>1</th>\n",
       "      <td>s Gravesandestraat 55 Oost 1092 AA Amsterdam ...</td>\n",
       "      <td>194</td>\n",
       "      <td>2017-08-03</td>\n",
       "      <td>7.7</td>\n",
       "      <td>Hotel Arena</td>\n",
       "      <td>Ireland</td>\n",
       "      <td>No Negative</td>\n",
       "      <td>0</td>\n",
       "      <td>1403</td>\n",
       "      <td>No real complaints the hotel was great great ...</td>\n",
       "      <td>105</td>\n",
       "      <td>7</td>\n",
       "      <td>7.5</td>\n",
       "      <td>[' Leisure trip ', ' Couple ', ' Duplex Double...</td>\n",
       "      <td>0</td>\n",
       "      <td>52.360576</td>\n",
       "      <td>4.915968</td>\n",
       "      <td>Netherlands</td>\n",
       "      <td>0</td>\n",
       "    </tr>\n",
       "    <tr>\n",
       "      <th>2</th>\n",
       "      <td>s Gravesandestraat 55 Oost 1092 AA Amsterdam ...</td>\n",
       "      <td>194</td>\n",
       "      <td>2017-07-31</td>\n",
       "      <td>7.7</td>\n",
       "      <td>Hotel Arena</td>\n",
       "      <td>Australia</td>\n",
       "      <td>Rooms are nice but for elderly a bit difficul...</td>\n",
       "      <td>42</td>\n",
       "      <td>1403</td>\n",
       "      <td>Location was good and staff were ok It is cut...</td>\n",
       "      <td>21</td>\n",
       "      <td>9</td>\n",
       "      <td>7.1</td>\n",
       "      <td>[' Leisure trip ', ' Family with young childre...</td>\n",
       "      <td>3</td>\n",
       "      <td>52.360576</td>\n",
       "      <td>4.915968</td>\n",
       "      <td>Netherlands</td>\n",
       "      <td>0</td>\n",
       "    </tr>\n",
       "    <tr>\n",
       "      <th>3</th>\n",
       "      <td>s Gravesandestraat 55 Oost 1092 AA Amsterdam ...</td>\n",
       "      <td>194</td>\n",
       "      <td>2017-07-31</td>\n",
       "      <td>7.7</td>\n",
       "      <td>Hotel Arena</td>\n",
       "      <td>United Kingdom</td>\n",
       "      <td>My room was dirty and I was afraid to walk ba...</td>\n",
       "      <td>210</td>\n",
       "      <td>1403</td>\n",
       "      <td>Great location in nice surroundings the bar a...</td>\n",
       "      <td>26</td>\n",
       "      <td>1</td>\n",
       "      <td>3.8</td>\n",
       "      <td>[' Leisure trip ', ' Solo traveler ', ' Duplex...</td>\n",
       "      <td>3</td>\n",
       "      <td>52.360576</td>\n",
       "      <td>4.915968</td>\n",
       "      <td>Netherlands</td>\n",
       "      <td>0</td>\n",
       "    </tr>\n",
       "    <tr>\n",
       "      <th>4</th>\n",
       "      <td>s Gravesandestraat 55 Oost 1092 AA Amsterdam ...</td>\n",
       "      <td>194</td>\n",
       "      <td>2017-07-24</td>\n",
       "      <td>7.7</td>\n",
       "      <td>Hotel Arena</td>\n",
       "      <td>New Zealand</td>\n",
       "      <td>You When I booked with your company on line y...</td>\n",
       "      <td>140</td>\n",
       "      <td>1403</td>\n",
       "      <td>Amazing location and building Romantic setting</td>\n",
       "      <td>8</td>\n",
       "      <td>3</td>\n",
       "      <td>6.7</td>\n",
       "      <td>[' Leisure trip ', ' Couple ', ' Suite ', ' St...</td>\n",
       "      <td>10</td>\n",
       "      <td>52.360576</td>\n",
       "      <td>4.915968</td>\n",
       "      <td>Netherlands</td>\n",
       "      <td>0</td>\n",
       "    </tr>\n",
       "  </tbody>\n",
       "</table>\n",
       "</div>"
      ],
      "text/plain": [
       "                                       Hotel_Address  \\\n",
       "0   s Gravesandestraat 55 Oost 1092 AA Amsterdam ...   \n",
       "1   s Gravesandestraat 55 Oost 1092 AA Amsterdam ...   \n",
       "2   s Gravesandestraat 55 Oost 1092 AA Amsterdam ...   \n",
       "3   s Gravesandestraat 55 Oost 1092 AA Amsterdam ...   \n",
       "4   s Gravesandestraat 55 Oost 1092 AA Amsterdam ...   \n",
       "\n",
       "   Additional_Number_of_Scoring Review_Date  Average_Score   Hotel_Name  \\\n",
       "0                           194  2017-08-03            7.7  Hotel Arena   \n",
       "1                           194  2017-08-03            7.7  Hotel Arena   \n",
       "2                           194  2017-07-31            7.7  Hotel Arena   \n",
       "3                           194  2017-07-31            7.7  Hotel Arena   \n",
       "4                           194  2017-07-24            7.7  Hotel Arena   \n",
       "\n",
       "  Reviewer_Nationality                                    Negative_Review  \\\n",
       "0               Russia   I am so angry that i made this post available...   \n",
       "1              Ireland                                        No Negative   \n",
       "2            Australia   Rooms are nice but for elderly a bit difficul...   \n",
       "3       United Kingdom   My room was dirty and I was afraid to walk ba...   \n",
       "4          New Zealand   You When I booked with your company on line y...   \n",
       "\n",
       "   Review_Total_Negative_Word_Counts  Total_Number_of_Reviews  \\\n",
       "0                                397                     1403   \n",
       "1                                  0                     1403   \n",
       "2                                 42                     1403   \n",
       "3                                210                     1403   \n",
       "4                                140                     1403   \n",
       "\n",
       "                                     Positive_Review  \\\n",
       "0   Only the park outside of the hotel was beauti...   \n",
       "1   No real complaints the hotel was great great ...   \n",
       "2   Location was good and staff were ok It is cut...   \n",
       "3   Great location in nice surroundings the bar a...   \n",
       "4    Amazing location and building Romantic setting    \n",
       "\n",
       "   Review_Total_Positive_Word_Counts  \\\n",
       "0                                 11   \n",
       "1                                105   \n",
       "2                                 21   \n",
       "3                                 26   \n",
       "4                                  8   \n",
       "\n",
       "   Total_Number_of_Reviews_Reviewer_Has_Given  Reviewer_Score  \\\n",
       "0                                           7             2.9   \n",
       "1                                           7             7.5   \n",
       "2                                           9             7.1   \n",
       "3                                           1             3.8   \n",
       "4                                           3             6.7   \n",
       "\n",
       "                                                Tags  days_since_review  \\\n",
       "0  [' Leisure trip ', ' Couple ', ' Duplex Double...                  0   \n",
       "1  [' Leisure trip ', ' Couple ', ' Duplex Double...                  0   \n",
       "2  [' Leisure trip ', ' Family with young childre...                  3   \n",
       "3  [' Leisure trip ', ' Solo traveler ', ' Duplex...                  3   \n",
       "4  [' Leisure trip ', ' Couple ', ' Suite ', ' St...                 10   \n",
       "\n",
       "         lat       lng Hotel_Country Country_Type  \n",
       "0  52.360576  4.915968   Netherlands            0  \n",
       "1  52.360576  4.915968   Netherlands            0  \n",
       "2  52.360576  4.915968   Netherlands            0  \n",
       "3  52.360576  4.915968   Netherlands            0  \n",
       "4  52.360576  4.915968   Netherlands            0  "
      ]
     },
     "execution_count": 163,
     "metadata": {},
     "output_type": "execute_result"
    }
   ],
   "source": [
    "reviews_df.head(5)"
   ]
  },
  {
   "cell_type": "markdown",
   "metadata": {},
   "source": [
    "#### Preprocessing heading to exploratory analysis\n",
    "In the following lines of code we adapt the dataset fields' type to the one which suites well for programming (?)."
   ]
  },
  {
   "cell_type": "code",
   "execution_count": 109,
   "metadata": {},
   "outputs": [],
   "source": [
    "# Convert date type from string to datetime\n",
    "reviews_df['Review_Date'] = pd.to_datetime(reviews_df['Review_Date'], format='%m/%d/%Y')"
   ]
  },
  {
   "cell_type": "code",
   "execution_count": 148,
   "metadata": {},
   "outputs": [],
   "source": [
    "# Delete \"days\" word from 'days_since_review' column\n",
    "cleaned_days = reviews_df['days_since_review'].str.extract('(\\d+)').astype('int32')\n",
    "reviews_df['days_since_review'] = cleaned_days"
   ]
  },
  {
   "cell_type": "code",
   "execution_count": 111,
   "metadata": {},
   "outputs": [],
   "source": [
    "# Remove white spaces at the beginning and end of reviewer nationality fields\n",
    "cleaned_nat = [str(row).strip() for row in reviews_df['Reviewer_Nationality']]\n",
    "reviews_df['Reviewer_Nationality'] = cleaned_nat"
   ]
  },
  {
   "cell_type": "markdown",
   "metadata": {},
   "source": [
    "Now that the dataset is clean and properly formatted we can save it so that next time we load the new formatted version."
   ]
  },
  {
   "cell_type": "code",
   "execution_count": 112,
   "metadata": {},
   "outputs": [],
   "source": [
    "reviews_df.to_csv('Cleaned_Hotel_Reviews.csv', index=False)"
   ]
  },
  {
   "cell_type": "code",
   "execution_count": 113,
   "metadata": {},
   "outputs": [],
   "source": [
    "# reviews_df = pd.read_csv('Cleaned_Hotel_Reviews.csv',index_col=[0])\n",
    "# reviews_df.index.name = 'Index'"
   ]
  },
  {
   "cell_type": "code",
   "execution_count": 114,
   "metadata": {},
   "outputs": [
    {
     "data": {
      "text/html": [
       "<div>\n",
       "<style scoped>\n",
       "    .dataframe tbody tr th:only-of-type {\n",
       "        vertical-align: middle;\n",
       "    }\n",
       "\n",
       "    .dataframe tbody tr th {\n",
       "        vertical-align: top;\n",
       "    }\n",
       "\n",
       "    .dataframe thead th {\n",
       "        text-align: right;\n",
       "    }\n",
       "</style>\n",
       "<table border=\"1\" class=\"dataframe\">\n",
       "  <thead>\n",
       "    <tr style=\"text-align: right;\">\n",
       "      <th></th>\n",
       "      <th>Hotel_Address</th>\n",
       "      <th>Additional_Number_of_Scoring</th>\n",
       "      <th>Review_Date</th>\n",
       "      <th>Average_Score</th>\n",
       "      <th>Hotel_Name</th>\n",
       "      <th>Reviewer_Nationality</th>\n",
       "      <th>Negative_Review</th>\n",
       "      <th>Review_Total_Negative_Word_Counts</th>\n",
       "      <th>Total_Number_of_Reviews</th>\n",
       "      <th>Positive_Review</th>\n",
       "      <th>Review_Total_Positive_Word_Counts</th>\n",
       "      <th>Total_Number_of_Reviews_Reviewer_Has_Given</th>\n",
       "      <th>Reviewer_Score</th>\n",
       "      <th>Tags</th>\n",
       "      <th>days_since_review</th>\n",
       "      <th>lat</th>\n",
       "      <th>lng</th>\n",
       "      <th>Hotel_Country</th>\n",
       "    </tr>\n",
       "  </thead>\n",
       "  <tbody>\n",
       "    <tr>\n",
       "      <th>0</th>\n",
       "      <td>s Gravesandestraat 55 Oost 1092 AA Amsterdam ...</td>\n",
       "      <td>194</td>\n",
       "      <td>2017-08-03</td>\n",
       "      <td>7.7</td>\n",
       "      <td>Hotel Arena</td>\n",
       "      <td>Russia</td>\n",
       "      <td>I am so angry that i made this post available...</td>\n",
       "      <td>397</td>\n",
       "      <td>1403</td>\n",
       "      <td>Only the park outside of the hotel was beauti...</td>\n",
       "      <td>11</td>\n",
       "      <td>7</td>\n",
       "      <td>2.9</td>\n",
       "      <td>[' Leisure trip ', ' Couple ', ' Duplex Double...</td>\n",
       "      <td>0</td>\n",
       "      <td>52.360576</td>\n",
       "      <td>4.915968</td>\n",
       "      <td>Netherlands</td>\n",
       "    </tr>\n",
       "    <tr>\n",
       "      <th>1</th>\n",
       "      <td>s Gravesandestraat 55 Oost 1092 AA Amsterdam ...</td>\n",
       "      <td>194</td>\n",
       "      <td>2017-08-03</td>\n",
       "      <td>7.7</td>\n",
       "      <td>Hotel Arena</td>\n",
       "      <td>Ireland</td>\n",
       "      <td>No Negative</td>\n",
       "      <td>0</td>\n",
       "      <td>1403</td>\n",
       "      <td>No real complaints the hotel was great great ...</td>\n",
       "      <td>105</td>\n",
       "      <td>7</td>\n",
       "      <td>7.5</td>\n",
       "      <td>[' Leisure trip ', ' Couple ', ' Duplex Double...</td>\n",
       "      <td>0</td>\n",
       "      <td>52.360576</td>\n",
       "      <td>4.915968</td>\n",
       "      <td>Netherlands</td>\n",
       "    </tr>\n",
       "    <tr>\n",
       "      <th>2</th>\n",
       "      <td>s Gravesandestraat 55 Oost 1092 AA Amsterdam ...</td>\n",
       "      <td>194</td>\n",
       "      <td>2017-07-31</td>\n",
       "      <td>7.7</td>\n",
       "      <td>Hotel Arena</td>\n",
       "      <td>Australia</td>\n",
       "      <td>Rooms are nice but for elderly a bit difficul...</td>\n",
       "      <td>42</td>\n",
       "      <td>1403</td>\n",
       "      <td>Location was good and staff were ok It is cut...</td>\n",
       "      <td>21</td>\n",
       "      <td>9</td>\n",
       "      <td>7.1</td>\n",
       "      <td>[' Leisure trip ', ' Family with young childre...</td>\n",
       "      <td>3</td>\n",
       "      <td>52.360576</td>\n",
       "      <td>4.915968</td>\n",
       "      <td>Netherlands</td>\n",
       "    </tr>\n",
       "    <tr>\n",
       "      <th>3</th>\n",
       "      <td>s Gravesandestraat 55 Oost 1092 AA Amsterdam ...</td>\n",
       "      <td>194</td>\n",
       "      <td>2017-07-31</td>\n",
       "      <td>7.7</td>\n",
       "      <td>Hotel Arena</td>\n",
       "      <td>United Kingdom</td>\n",
       "      <td>My room was dirty and I was afraid to walk ba...</td>\n",
       "      <td>210</td>\n",
       "      <td>1403</td>\n",
       "      <td>Great location in nice surroundings the bar a...</td>\n",
       "      <td>26</td>\n",
       "      <td>1</td>\n",
       "      <td>3.8</td>\n",
       "      <td>[' Leisure trip ', ' Solo traveler ', ' Duplex...</td>\n",
       "      <td>3</td>\n",
       "      <td>52.360576</td>\n",
       "      <td>4.915968</td>\n",
       "      <td>Netherlands</td>\n",
       "    </tr>\n",
       "    <tr>\n",
       "      <th>4</th>\n",
       "      <td>s Gravesandestraat 55 Oost 1092 AA Amsterdam ...</td>\n",
       "      <td>194</td>\n",
       "      <td>2017-07-24</td>\n",
       "      <td>7.7</td>\n",
       "      <td>Hotel Arena</td>\n",
       "      <td>New Zealand</td>\n",
       "      <td>You When I booked with your company on line y...</td>\n",
       "      <td>140</td>\n",
       "      <td>1403</td>\n",
       "      <td>Amazing location and building Romantic setting</td>\n",
       "      <td>8</td>\n",
       "      <td>3</td>\n",
       "      <td>6.7</td>\n",
       "      <td>[' Leisure trip ', ' Couple ', ' Suite ', ' St...</td>\n",
       "      <td>10</td>\n",
       "      <td>52.360576</td>\n",
       "      <td>4.915968</td>\n",
       "      <td>Netherlands</td>\n",
       "    </tr>\n",
       "  </tbody>\n",
       "</table>\n",
       "</div>"
      ],
      "text/plain": [
       "                                       Hotel_Address  \\\n",
       "0   s Gravesandestraat 55 Oost 1092 AA Amsterdam ...   \n",
       "1   s Gravesandestraat 55 Oost 1092 AA Amsterdam ...   \n",
       "2   s Gravesandestraat 55 Oost 1092 AA Amsterdam ...   \n",
       "3   s Gravesandestraat 55 Oost 1092 AA Amsterdam ...   \n",
       "4   s Gravesandestraat 55 Oost 1092 AA Amsterdam ...   \n",
       "\n",
       "   Additional_Number_of_Scoring Review_Date  Average_Score   Hotel_Name  \\\n",
       "0                           194  2017-08-03            7.7  Hotel Arena   \n",
       "1                           194  2017-08-03            7.7  Hotel Arena   \n",
       "2                           194  2017-07-31            7.7  Hotel Arena   \n",
       "3                           194  2017-07-31            7.7  Hotel Arena   \n",
       "4                           194  2017-07-24            7.7  Hotel Arena   \n",
       "\n",
       "  Reviewer_Nationality                                    Negative_Review  \\\n",
       "0               Russia   I am so angry that i made this post available...   \n",
       "1              Ireland                                        No Negative   \n",
       "2            Australia   Rooms are nice but for elderly a bit difficul...   \n",
       "3       United Kingdom   My room was dirty and I was afraid to walk ba...   \n",
       "4          New Zealand   You When I booked with your company on line y...   \n",
       "\n",
       "   Review_Total_Negative_Word_Counts  Total_Number_of_Reviews  \\\n",
       "0                                397                     1403   \n",
       "1                                  0                     1403   \n",
       "2                                 42                     1403   \n",
       "3                                210                     1403   \n",
       "4                                140                     1403   \n",
       "\n",
       "                                     Positive_Review  \\\n",
       "0   Only the park outside of the hotel was beauti...   \n",
       "1   No real complaints the hotel was great great ...   \n",
       "2   Location was good and staff were ok It is cut...   \n",
       "3   Great location in nice surroundings the bar a...   \n",
       "4    Amazing location and building Romantic setting    \n",
       "\n",
       "   Review_Total_Positive_Word_Counts  \\\n",
       "0                                 11   \n",
       "1                                105   \n",
       "2                                 21   \n",
       "3                                 26   \n",
       "4                                  8   \n",
       "\n",
       "   Total_Number_of_Reviews_Reviewer_Has_Given  Reviewer_Score  \\\n",
       "0                                           7             2.9   \n",
       "1                                           7             7.5   \n",
       "2                                           9             7.1   \n",
       "3                                           1             3.8   \n",
       "4                                           3             6.7   \n",
       "\n",
       "                                                Tags days_since_review  \\\n",
       "0  [' Leisure trip ', ' Couple ', ' Duplex Double...                 0   \n",
       "1  [' Leisure trip ', ' Couple ', ' Duplex Double...                 0   \n",
       "2  [' Leisure trip ', ' Family with young childre...                 3   \n",
       "3  [' Leisure trip ', ' Solo traveler ', ' Duplex...                 3   \n",
       "4  [' Leisure trip ', ' Couple ', ' Suite ', ' St...                10   \n",
       "\n",
       "         lat       lng Hotel_Country  \n",
       "0  52.360576  4.915968   Netherlands  \n",
       "1  52.360576  4.915968   Netherlands  \n",
       "2  52.360576  4.915968   Netherlands  \n",
       "3  52.360576  4.915968   Netherlands  \n",
       "4  52.360576  4.915968   Netherlands  "
      ]
     },
     "execution_count": 114,
     "metadata": {},
     "output_type": "execute_result"
    }
   ],
   "source": [
    "reviews_df.head()"
   ]
  },
  {
   "cell_type": "markdown",
   "metadata": {},
   "source": [
    "# Exploratory Analysis\n",
    "In this section we explore our data, we ask ourselves questions that we hope to answer by investigating the data that we have."
   ]
  },
  {
   "cell_type": "markdown",
   "metadata": {},
   "source": [
    "#### Question: How many hotels do we have in the dataset? \n",
    "#### Question: What is the hotel with most reviews?"
   ]
  },
  {
   "cell_type": "code",
   "execution_count": 115,
   "metadata": {},
   "outputs": [
    {
     "data": {
      "text/plain": [
       "count                                         515738\n",
       "unique                                          1492\n",
       "top       Britannia International Hotel Canary Wharf\n",
       "freq                                            4789\n",
       "Name: Hotel_Name, dtype: object"
      ]
     },
     "execution_count": 115,
     "metadata": {},
     "output_type": "execute_result"
    }
   ],
   "source": [
    "reviews_df['Hotel_Name'].describe()"
   ]
  },
  {
   "cell_type": "markdown",
   "metadata": {},
   "source": [
    "We have 1492 different hotels in the dataset and the most frequent one (i.e. the one for which we have the major number of reviews) is the **Britannia International Hotel Canary Wharf** with 4789 reviews."
   ]
  },
  {
   "cell_type": "markdown",
   "metadata": {},
   "source": [
    "#### Question:  How many reviews do we have for each one of the reviewed hotels? "
   ]
  },
  {
   "cell_type": "code",
   "execution_count": 116,
   "metadata": {},
   "outputs": [
    {
     "data": {
      "text/plain": [
       "Britannia International Hotel Canary Wharf           4789\n",
       "Strand Palace Hotel                                  4256\n",
       "Park Plaza Westminster Bridge London                 4169\n",
       "Copthorne Tara Hotel London Kensington               3578\n",
       "DoubleTree by Hilton Hotel London Tower of London    3212\n",
       "Grand Royale London Hyde Park                        2958\n",
       "Holiday Inn London Kensington                        2768\n",
       "Hilton London Metropole                              2628\n",
       "Millennium Gloucester Hotel London                   2565\n",
       "Intercontinental London The O2                       2551\n",
       "Park Grand Paddington Court                          2288\n",
       "Hilton London Wembley                                2227\n",
       "Park Plaza County Hall London                        2223\n",
       "Blakemore Hyde Park                                  2178\n",
       "Park Plaza London Riverbank                          2167\n",
       "M by Montcalm Shoreditch London Tech City            2155\n",
       "DoubleTree by Hilton London Docklands Riverside      2147\n",
       "St James Court A Taj Hotel London                    2070\n",
       "Park Grand London Kensington                         2059\n",
       "Hotel Da Vinci                                       1877\n",
       "Name: Hotel_Name, dtype: int64"
      ]
     },
     "execution_count": 116,
     "metadata": {},
     "output_type": "execute_result"
    }
   ],
   "source": [
    "reviews_df['Hotel_Name'].value_counts().head(20)"
   ]
  },
  {
   "cell_type": "code",
   "execution_count": 282,
   "metadata": {},
   "outputs": [
    {
     "data": {
      "text/plain": [
       "<matplotlib.axes._subplots.AxesSubplot at 0x7f716580f7f0>"
      ]
     },
     "execution_count": 282,
     "metadata": {},
     "output_type": "execute_result"
    },
    {
     "data": {
      "image/png": "[encoded data removed]",
      "text/plain": [
       "<Figure size 720x576 with 1 Axes>"
      ]
     },
     "metadata": {
      "needs_background": "light"
     },
     "output_type": "display_data"
    }
   ],
   "source": [
    "reviews_df['Hotel_Name'].value_counts().head(20).plot(kind='bar',figsize=FIG_SIZE)"
   ]
  },
  {
   "cell_type": "markdown",
   "metadata": {},
   "source": [
    "#### Question: What is the time range of these reviews? "
   ]
  },
  {
   "cell_type": "code",
   "execution_count": 118,
   "metadata": {},
   "outputs": [
    {
     "data": {
      "text/plain": [
       "Timestamp('2015-08-04 00:00:00')"
      ]
     },
     "execution_count": 118,
     "metadata": {},
     "output_type": "execute_result"
    }
   ],
   "source": [
    "reviews_df['Review_Date'].min()"
   ]
  },
  {
   "cell_type": "code",
   "execution_count": 119,
   "metadata": {},
   "outputs": [
    {
     "data": {
      "text/plain": [
       "Timestamp('2017-08-03 00:00:00')"
      ]
     },
     "execution_count": 119,
     "metadata": {},
     "output_type": "execute_result"
    }
   ],
   "source": [
    "reviews_df['Review_Date'].max()"
   ]
  },
  {
   "cell_type": "markdown",
   "metadata": {},
   "source": [
    "#### Question: Which are the most frequent days for reviewers?"
   ]
  },
  {
   "cell_type": "code",
   "execution_count": 120,
   "metadata": {},
   "outputs": [
    {
     "data": {
      "text/plain": [
       "2017-08-02    2585\n",
       "2016-09-15    2308\n",
       "2017-04-05    2284\n",
       "2016-08-30    1963\n",
       "2016-02-16    1940\n",
       "2016-07-05    1904\n",
       "2016-05-31    1860\n",
       "2016-12-05    1803\n",
       "2016-07-12    1801\n",
       "2016-08-02    1783\n",
       "Name: Review_Date, dtype: int64"
      ]
     },
     "execution_count": 120,
     "metadata": {},
     "output_type": "execute_result"
    }
   ],
   "source": [
    "reviews_df['Review_Date'].value_counts().head(10)"
   ]
  },
  {
   "cell_type": "code",
   "execution_count": 283,
   "metadata": {},
   "outputs": [
    {
     "data": {
      "text/plain": [
       "<matplotlib.axes._subplots.AxesSubplot at 0x7f71658fd3c8>"
      ]
     },
     "execution_count": 283,
     "metadata": {},
     "output_type": "execute_result"
    },
    {
     "data": {
      "image/png": "[encoded data removed]",
      "text/plain": [
       "<Figure size 720x576 with 1 Axes>"
      ]
     },
     "metadata": {
      "needs_background": "light"
     },
     "output_type": "display_data"
    }
   ],
   "source": [
    "reviews_df['Review_Date'].value_counts().head(10).plot(kind='bar', figsize=FIG_SIZE)"
   ]
  },
  {
   "cell_type": "markdown",
   "metadata": {},
   "source": [
    "#### Question: What is the date in which the data has been scraped?"
   ]
  },
  {
   "cell_type": "code",
   "execution_count": 154,
   "metadata": {},
   "outputs": [
    {
     "data": {
      "text/plain": [
       "Timestamp('2017-08-03 00:00:00')"
      ]
     },
     "execution_count": 154,
     "metadata": {},
     "output_type": "execute_result"
    }
   ],
   "source": [
    "reviews_df.query('days_since_review == 0').iloc[0]['Review_Date']"
   ]
  },
  {
   "cell_type": "markdown",
   "metadata": {},
   "source": [
    "#### Question: How are the average scores distributed?"
   ]
  },
  {
   "cell_type": "code",
   "execution_count": 125,
   "metadata": {},
   "outputs": [
    {
     "data": {
      "text/plain": [
       "count    515738.000000\n",
       "mean          8.397487\n",
       "std           0.548048\n",
       "min           5.200000\n",
       "25%           8.100000\n",
       "50%           8.400000\n",
       "75%           8.800000\n",
       "max           9.800000\n",
       "Name: Average_Score, dtype: float64"
      ]
     },
     "execution_count": 125,
     "metadata": {},
     "output_type": "execute_result"
    }
   ],
   "source": [
    "reviews_df['Average_Score'].describe()"
   ]
  },
  {
   "cell_type": "code",
   "execution_count": 286,
   "metadata": {},
   "outputs": [
    {
     "data": {
      "text/plain": [
       "<matplotlib.axes._subplots.AxesSubplot at 0x7f71635371d0>"
      ]
     },
     "execution_count": 286,
     "metadata": {},
     "output_type": "execute_result"
    },
    {
     "data": {
      "image/png": "[encoded data removed]",
      "text/plain": [
       "<Figure size 720x576 with 1 Axes>"
      ]
     },
     "metadata": {
      "needs_background": "light"
     },
     "output_type": "display_data"
    }
   ],
   "source": [
    "reviews_df['Average_Score'].value_counts().sort_index().plot(kind='bar',figsize=FIG_SIZE)"
   ]
  },
  {
   "cell_type": "markdown",
   "metadata": {},
   "source": [
    "We see that most of the hotels lie between an average score of 8.0 and 9.0."
   ]
  },
  {
   "cell_type": "code",
   "execution_count": 127,
   "metadata": {},
   "outputs": [
    {
     "data": {
      "text/plain": [
       "362629"
      ]
     },
     "execution_count": 127,
     "metadata": {},
     "output_type": "execute_result"
    }
   ],
   "source": [
    "t = reviews_df['Average_Score'].value_counts().sort_index()[8.0 : 9.0].sum()\n",
    "t"
   ]
  },
  {
   "cell_type": "code",
   "execution_count": 128,
   "metadata": {},
   "outputs": [
    {
     "name": "stdout",
     "output_type": "stream",
     "text": [
      "In this range of score falls the 70.3126393633977% of the reviews.\n"
     ]
    }
   ],
   "source": [
    "percentage = t / reviews_df['Average_Score'].count() * 100\n",
    "print(\"In this range of score falls the {}% of the reviews.\".format(percentage))"
   ]
  },
  {
   "cell_type": "markdown",
   "metadata": {},
   "source": [
    "#### Question: How is the nationality of the reviewers distribitued?"
   ]
  },
  {
   "cell_type": "code",
   "execution_count": 129,
   "metadata": {},
   "outputs": [
    {
     "data": {
      "text/plain": [
       "United Kingdom              245246\n",
       "United States of America     35437\n",
       "Australia                    21686\n",
       "Ireland                      14827\n",
       "United Arab Emirates         10235\n",
       "Saudi Arabia                  8951\n",
       "Netherlands                   8772\n",
       "Switzerland                   8678\n",
       "Germany                       7941\n",
       "Canada                        7894\n",
       "Name: Reviewer_Nationality, dtype: int64"
      ]
     },
     "execution_count": 129,
     "metadata": {},
     "output_type": "execute_result"
    }
   ],
   "source": [
    "reviews_df['Reviewer_Nationality'].value_counts().head(10)"
   ]
  },
  {
   "cell_type": "markdown",
   "metadata": {},
   "source": [
    "We've noticed that a lot of the reviews are from United Kingdom people."
   ]
  },
  {
   "cell_type": "code",
   "execution_count": 130,
   "metadata": {},
   "outputs": [
    {
     "data": {
      "text/plain": [
       "47.55243941691324"
      ]
     },
     "execution_count": 130,
     "metadata": {},
     "output_type": "execute_result"
    }
   ],
   "source": [
    "reviews_df['Reviewer_Nationality'].value_counts().iloc[0] / dataframe_length * 100"
   ]
  },
  {
   "cell_type": "markdown",
   "metadata": {},
   "source": [
    "#### Question: How many reviews are from italian people?"
   ]
  },
  {
   "cell_type": "code",
   "execution_count": 131,
   "metadata": {},
   "outputs": [
    {
     "data": {
      "text/plain": [
       "6114"
      ]
     },
     "execution_count": 131,
     "metadata": {},
     "output_type": "execute_result"
    }
   ],
   "source": [
    "reviews_df['Reviewer_Nationality'].value_counts()['Italy']"
   ]
  },
  {
   "cell_type": "markdown",
   "metadata": {},
   "source": [
    "#### Question: How is the number of reviews made by the reviewers distributed?"
   ]
  },
  {
   "cell_type": "code",
   "execution_count": 132,
   "metadata": {
    "scrolled": true
   },
   "outputs": [
    {
     "data": {
      "text/plain": [
       "1     154640\n",
       "2      67077\n",
       "3      46845\n",
       "4      35026\n",
       "5      27629\n",
       "6      22621\n",
       "7      18614\n",
       "8      16150\n",
       "9      13545\n",
       "10     11717\n",
       "Name: Total_Number_of_Reviews_Reviewer_Has_Given, dtype: int64"
      ]
     },
     "execution_count": 132,
     "metadata": {},
     "output_type": "execute_result"
    }
   ],
   "source": [
    "reviews_df['Total_Number_of_Reviews_Reviewer_Has_Given'].value_counts().head(10)"
   ]
  },
  {
   "cell_type": "code",
   "execution_count": 133,
   "metadata": {},
   "outputs": [
    {
     "name": "stdout",
     "output_type": "stream",
     "text": [
      "The percentage of first review in the dataframe is 29.98%\n"
     ]
    }
   ],
   "source": [
    "percentage = reviews_df['Total_Number_of_Reviews_Reviewer_Has_Given'].value_counts().iloc[0]\n",
    "print(\"The percentage of first review in the dataframe is {:.2f}%\".format(percentage / dataframe_length * 100))"
   ]
  },
  {
   "cell_type": "markdown",
   "metadata": {},
   "source": [
    "#### Question: Where are the reviewed hotels located?"
   ]
  },
  {
   "cell_type": "code",
   "execution_count": 134,
   "metadata": {},
   "outputs": [
    {
     "data": {
      "text/plain": [
       "count      515738\n",
       "unique          6\n",
       "top       Kingdom\n",
       "freq       262301\n",
       "Name: Hotel_Country, dtype: object"
      ]
     },
     "execution_count": 134,
     "metadata": {},
     "output_type": "execute_result"
    }
   ],
   "source": [
    "reviews_df['Hotel_Country'].describe()"
   ]
  },
  {
   "cell_type": "code",
   "execution_count": 287,
   "metadata": {},
   "outputs": [
    {
     "data": {
      "text/plain": [
       "<matplotlib.axes._subplots.AxesSubplot at 0x7f71624ed4a8>"
      ]
     },
     "execution_count": 287,
     "metadata": {},
     "output_type": "execute_result"
    },
    {
     "data": {
      "image/png": "[encoded data removed]",
      "text/plain": [
       "<Figure size 720x576 with 1 Axes>"
      ]
     },
     "metadata": {
      "needs_background": "light"
     },
     "output_type": "display_data"
    }
   ],
   "source": [
    "reviews_df['Hotel_Country'].value_counts().head(10).plot(kind='bar', figsize=FIG_SIZE)"
   ]
  },
  {
   "cell_type": "markdown",
   "metadata": {},
   "source": [
    "#### Question: Can we infer something from the location of the hotels and the period in which the reviews were made? For example does the amount of reviews during summer for sea-side hotels increase?"
   ]
  },
  {
   "cell_type": "code",
   "execution_count": 263,
   "metadata": {},
   "outputs": [
    {
     "name": "stderr",
     "output_type": "stream",
     "text": [
      "/usr/lib/python3.7/site-packages/ipykernel_launcher.py:3: SettingWithCopyWarning: \n",
      "A value is trying to be set on a copy of a slice from a DataFrame.\n",
      "Try using .loc[row_indexer,col_indexer] = value instead\n",
      "\n",
      "See the caveats in the documentation: http://pandas.pydata.org/pandas-docs/stable/indexing.html#indexing-view-versus-copy\n",
      "  This is separate from the ipykernel package so we can avoid doing imports until\n"
     ]
    },
    {
     "data": {
      "text/plain": [
       "Country_Type  Review_Date  Review_Date\n",
       "0             01           2016           4737\n",
       "                           2017           5440\n",
       "              02           2016           3989\n",
       "                           2017           4231\n",
       "              03           2016           4712\n",
       "Name: count, dtype: int64"
      ]
     },
     "execution_count": 263,
     "metadata": {},
     "output_type": "execute_result"
    }
   ],
   "source": [
    "# UK removed.\n",
    "no_uk = reviews_df.query('Hotel_Country != \"Kingdom\"')\n",
    "no_uk['count'] = \"\"\n",
    "data = no_uk['count'].groupby([no_uk['Country_Type'],no_uk['Review_Date'].dt.strftime('%m'),no_uk['Review_Date'].dt.strftime('%Y')]).count()\n",
    "data.head()"
   ]
  },
  {
   "cell_type": "code",
   "execution_count": 289,
   "metadata": {},
   "outputs": [
    {
     "data": {
      "text/plain": [
       "<matplotlib.axes._subplots.AxesSubplot at 0x7f71623a6e48>"
      ]
     },
     "execution_count": 289,
     "metadata": {},
     "output_type": "execute_result"
    },
    {
     "data": {
      "image/png": "[encoded data removed]",
      "text/plain": [
       "<Figure size 720x576 with 1 Axes>"
      ]
     },
     "metadata": {
      "needs_background": "light"
     },
     "output_type": "display_data"
    }
   ],
   "source": [
    "data.unstack(level=0).sort_index(level=[1,0]).plot(figsize=FIG_SIZE, rot=90)"
   ]
  },
  {
   "cell_type": "markdown",
   "metadata": {},
   "source": [
    "#### Is the review score affected by the nights spent in the hotel?"
   ]
  },
  {
   "cell_type": "code",
   "execution_count": 84,
   "metadata": {},
   "outputs": [
    {
     "data": {
      "text/plain": [
       "<seaborn.axisgrid.JointGrid at 0x7f71896b2c50>"
      ]
     },
     "execution_count": 84,
     "metadata": {},
     "output_type": "execute_result"
    },
    {
     "data": {
      "image/png": "[encoded data removed]",
      "text/plain": [
       "<Figure size 432x432 with 3 Axes>"
      ]
     },
     "metadata": {
      "needs_background": "light"
     },
     "output_type": "display_data"
    }
   ],
   "source": [
    "def splitString(string):\n",
    "    array = string.split(\" ', ' \")\n",
    "    array[0] = array[0][3:]\n",
    "    array[-1] = array[-1][:-3]\n",
    "    if not 'trip' in array[0]:\n",
    "        array.insert(0,None)\n",
    "    try:\n",
    "        return float(array[3].split()[1])\n",
    "    except:\n",
    "        return None\n",
    "\n",
    "reviews_df[\"Nights\"] = reviews_df[\"Tags\"].apply(splitString)\n",
    "sns.jointplot(data=reviews_df,y=\"Reviewer_Score\",x=\"Nights\",kind=\"reg\")"
   ]
  },
  {
   "cell_type": "code",
   "execution_count": 316,
   "metadata": {},
   "outputs": [
    {
     "data": {
      "text/plain": [
       "Leisure trip                                               417778\n",
       "Submitted from a mobile device                             307640\n",
       "Couple                                                     252294\n",
       "Stayed 1 night                                             193645\n",
       "Stayed 2 nights                                            133937\n",
       "Solo traveler                                              108545\n",
       "Stayed 3 nights                                             95821\n",
       "Business trip                                               82939\n",
       "Group                                                       65392\n",
       "Family with young children                                  61015\n",
       "Stayed 4 nights                                             47817\n",
       "Double Room                                                 35207\n",
       "Standard Double Room                                        32248\n",
       "Superior Double Room                                        31393\n",
       "Family with older children                                  26349\n",
       "Deluxe Double Room                                          24823\n",
       "Double or Twin Room                                         22393\n",
       "Stayed 5 nights                                             20845\n",
       "Standard Double or Twin Room                                17483\n",
       "Classic Double Room                                         16989\n",
       "Superior Double or Twin Room                                13570\n",
       "2 rooms                                                     12393\n",
       "Stayed 6 nights                                              9776\n",
       "Standard Twin Room                                           9745\n",
       "Single Room                                                  9670\n",
       "Twin Room                                                    8321\n",
       "Stayed 7 nights                                              7399\n",
       "Executive Double Room                                        6425\n",
       "Classic Double or Twin Room                                  6107\n",
       "Superior Twin Room                                           6064\n",
       "                                                            ...  \n",
       "Universitat Single Room                                         1\n",
       "Superior Junior Suite Single Use                                1\n",
       "Superior Suite Water Front                                      1\n",
       "Superior One Bedroom Suite with Executive Lounge Access         1\n",
       "Junior Suite with Twin Beds                                     1\n",
       "Privilege Room with Extra Bed 3 Adults                          1\n",
       "Easter Special Executive King Room                              1\n",
       "Executive Double Room with Spa Fitness Access                   1\n",
       "Double Room Rouge Epic e                                        1\n",
       "Couture Suite                                                   1\n",
       "Suite Superior                                                  1\n",
       "Loft Double Room                                                1\n",
       "Two Bedroom Suite with Private Access to Pool and Spa           1\n",
       "Privilege Room with Hammam                                      1\n",
       "Small Double Room 1 2 adults                                    1\n",
       "Junior Suite 3 Adults with Paris View                           1\n",
       "Penthouse                                                       1\n",
       "Family Room 6 Adults                                            1\n",
       "Art Deco Room Balcony                                           1\n",
       "Smart Triple Room                                               1\n",
       "Park Room                                                       1\n",
       "Comfort Plus Twin Room                                          1\n",
       "Parisian Suite                                                  1\n",
       "Prestige Suite with Private Terrace                             1\n",
       "Townhouse Suite                                                 1\n",
       "Suite Aurore                                                    1\n",
       "One Bedroom City Suite                                          1\n",
       "Junior Suite with Free Bottle of Champagne                      1\n",
       "Double Room 3 Adults                                            1\n",
       "Deluxe Suite 4 Adults                                           1\n",
       "Length: 2428, dtype: int64"
      ]
     },
     "execution_count": 316,
     "metadata": {},
     "output_type": "execute_result"
    }
   ],
   "source": [
    "# In case we want to use the Tags, here I clean up the format \n",
    "# and create list from Tags ranked them by occurence\n",
    "pd.Series(re.findall(r'[\\']\\s([\\w\\s]+)\\s[\\']',''.join(reviews_df.Tags))).value_counts()"
   ]
  },
  {
   "cell_type": "code",
   "execution_count": null,
   "metadata": {},
   "outputs": [],
   "source": []
  }
 ],
 "metadata": {
  "kernelspec": {
   "display_name": "Python 3",
   "language": "python",
   "name": "python3"
  },
  "language_info": {
   "codemirror_mode": {
    "name": "ipython",
    "version": 3
   },
   "file_extension": ".py",
   "mimetype": "text/x-python",
   "name": "python",
   "nbconvert_exporter": "python",
   "pygments_lexer": "ipython3",
   "version": "3.7.3"
  }
 },
 "nbformat": 4,
 "nbformat_minor": 2
}
